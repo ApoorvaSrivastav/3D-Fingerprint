{
 "cells": [
  {
   "cell_type": "code",
   "execution_count": 1,
   "metadata": {},
   "outputs": [],
   "source": [
    "import cv2\n",
    "import numpy as np\n",
    "import matplotlib.pyplot as plt\n",
    "from scipy.io import savemat"
   ]
  },
  {
   "cell_type": "code",
   "execution_count": 2,
   "metadata": {},
   "outputs": [
    {
     "data": {
      "text/plain": [
       "True"
      ]
     },
     "execution_count": 2,
     "metadata": {},
     "output_type": "execute_result"
    }
   ],
   "source": [
    "frontal = cv2.imread('frontal.jpg')\n",
    "lateral = cv2.imread('lateral.jpg')\n",
    "\n",
    "frontal = cv2.cvtColor(frontal,cv2.COLOR_BGR2GRAY)\n",
    "lateral = cv2.cvtColor(lateral,cv2.COLOR_BGR2GRAY)\n",
    "\n",
    "cv2.imwrite('Frontal_gray.jpg',frontal)\n",
    "cv2.imwrite('Lateral_gray.jpg',lateral)"
   ]
  },
  {
   "cell_type": "code",
   "execution_count": 3,
   "metadata": {},
   "outputs": [
    {
     "data": {
      "text/plain": [
       "<matplotlib.image.AxesImage at 0x1928b469408>"
      ]
     },
     "execution_count": 3,
     "metadata": {},
     "output_type": "execute_result"
    },
    {
     "data": {
      "image/png": "[encoded data removed]",
      "text/plain": [
       "<Figure size 432x288 with 1 Axes>"
      ]
     },
     "metadata": {
      "needs_background": "light"
     },
     "output_type": "display_data"
    }
   ],
   "source": [
    "# Thresholding\n",
    "F = np.zeros(frontal.shape)\n",
    "idx1 = frontal[:,:]>0\n",
    "F[idx1]=255\n",
    "idx2 = frontal[:,:]==0\n",
    "F[idx2]=0\n",
    "plt.imshow(F.astype(np.uint8))\n",
    "\n",
    "#cv2.imwrite('Frontal_gray_thresh.jpg',F.astype(np.uint8))"
   ]
  },
  {
   "cell_type": "code",
   "execution_count": 4,
   "metadata": {},
   "outputs": [
    {
     "data": {
      "text/plain": [
       "<matplotlib.image.AxesImage at 0x1928b3bce48>"
      ]
     },
     "execution_count": 4,
     "metadata": {},
     "output_type": "execute_result"
    },
    {
     "data": {
      "image/png": "[encoded data removed]",
      "text/plain": [
       "<Figure size 432x288 with 1 Axes>"
      ]
     },
     "metadata": {
      "needs_background": "light"
     },
     "output_type": "display_data"
    }
   ],
   "source": [
    "# Thresholding\n",
    "T = np.zeros(lateral.shape)\n",
    "id1 = lateral[:,:]>6\n",
    "T[id1]=255\n",
    "id2 = lateral[:,:]==0\n",
    "T[id2]=0\n",
    "plt.imshow(T.astype(np.uint8))\n",
    "\n",
    "#cv2.imwrite('Lateral_gray_thresh.jpg',T.astype(np.uint8))"
   ]
  },
  {
   "cell_type": "code",
   "execution_count": 27,
   "metadata": {},
   "outputs": [],
   "source": [
    "#Finding all the major axes with their rows\n",
    "major_axis = []\n",
    "initial_i=[]\n",
    "for i in range(200,F.shape[0]):\n",
    "    #print(i)\n",
    "    for j in range(F.shape[1]-1):\n",
    "        #print(F[i,j],F[i,j+1])\n",
    "        if F[i,j]==0 and np.all(F[i,j+1:j+12]!=0): \n",
    "            initial_ind=j\n",
    "            initial_i.append(j)\n",
    "            #print(j)\n",
    "        elif F[i,j]!=0 and np.all(F[i,j+1:j+12]==0): \n",
    "            #print(j)\n",
    "            final_ind=j\n",
    "    major_axis.append((i,int((final_ind-initial_ind)/2)))"
   ]
  },
  {
   "cell_type": "code",
   "execution_count": 28,
   "metadata": {},
   "outputs": [],
   "source": [
    "#Finding all the minor axes with their rows\n",
    "minor_axis = []\n",
    "\n",
    "for i in range(200,T.shape[0]):\n",
    "    for j in range(T.shape[1]-1):\n",
    "        if T[i,j]==0 and np.all(T[i,j+1:j+12]!=0):\n",
    "            initial_ind=j\n",
    "           \n",
    "        elif  T[i,j]!=0 and np.all(T[i,j+1:j+12]==0):\n",
    "            final_ind=j\n",
    "    minor_axis.append((i,int((final_ind-initial_ind)/2)))"
   ]
  },
  {
   "cell_type": "code",
   "execution_count": 29,
   "metadata": {},
   "outputs": [
    {
     "name": "stdout",
     "output_type": "stream",
     "text": [
      "(1472, 2)\n",
      "(968, 2)\n",
      "347\n",
      "-323\n"
     ]
    }
   ],
   "source": [
    "major_axis = np.array(major_axis)\n",
    "minor_axis = np.array(minor_axis)\n",
    "print(major_axis.shape)\n",
    "print(minor_axis.shape)\n",
    "print(np.max(major_axis[:,1]))\n",
    "print(np.min(minor_axis[:,1]))"
   ]
  },
  {
   "cell_type": "code",
   "execution_count": 30,
   "metadata": {},
   "outputs": [],
   "source": [
    "def merge(list1, list2,list3):\n",
    "\t\n",
    "\tmerged_list = tuple(zip(list1, list2,list3))\n",
    "\treturn merged_list\n",
    "\n"
   ]
  },
  {
   "cell_type": "code",
   "execution_count": 35,
   "metadata": {},
   "outputs": [],
   "source": [
    "#generating points for all ellipse\n",
    "point_cloud=[]\n",
    "#sum1=0\n",
    "k = np.zeros(np.shape(frontal))\n",
    "initial=np.array(initial)\n",
    "for i in range(len(minor_axis)):\n",
    "    y = np.arange(-major_axis[i][1],major_axis[i][1])#np.linspace(-major_axis[i][1],major_axis[i][1],2*major_axis[i][1])\n",
    "    z = minor_axis[i][1]*np.sqrt((1-(y/(major_axis[i][1]+ np.finfo(float).eps))**2))\n",
    "    x = np.ones(y.shape)*i\n",
    "    y_pos = y + major_axis[i][1]\n",
    "    #print(x.shape,y.shape,z.shape)\n",
    "    #sum1 = sum1 + z.shape[0]\n",
    "    #print(np.uint16(y))\n",
    "    if initial[i]<500:\n",
    "        k[158+i,initial_i[i]+np.uint32(y_pos)]=z\n",
    "        point_cloud.extend(merge(x, y,z))\n",
    "    #point_cloud.extend(merge(x, y,-z))\n",
    "point_cloud = np.array(point_cloud)"
   ]
  },
  {
   "cell_type": "code",
   "execution_count": 40,
   "metadata": {},
   "outputs": [],
   "source": [
    "import open3d as o3d\n",
    "pcd = o3d.geometry.PointCloud()\n",
    "pcd.points = o3d.utility.Vector3dVector(point_cloud)\n",
    "o3d.io.write_point_cloud(\"./data2.ply\", pcd)\n",
    "savemat(\"points2.mat\", mdict={\"points\":k})"
   ]
  },
  {
   "cell_type": "code",
   "execution_count": 37,
   "metadata": {},
   "outputs": [
    {
     "data": {
      "text/plain": [
       "True"
      ]
     },
     "execution_count": 37,
     "metadata": {},
     "output_type": "execute_result"
    },
    {
     "data": {
      "image/png": "[encoded data removed]",
      "text/plain": [
       "<Figure size 432x288 with 1 Axes>"
      ]
     },
     "metadata": {
      "needs_background": "light"
     },
     "output_type": "display_data"
    }
   ],
   "source": [
    "plt.imshow(k.astype(np.uint8))\n",
    "cv2.imwrite('height_map.jpg',k.astype(np.uint8))"
   ]
  },
  {
   "cell_type": "code",
   "execution_count": 38,
   "metadata": {},
   "outputs": [
    {
     "data": {
      "image/png": "[encoded data removed]",
      "text/plain": [
       "<Figure size 432x288 with 1 Axes>"
      ]
     },
     "metadata": {
      "needs_background": "light"
     },
     "output_type": "display_data"
    }
   ],
   "source": [
    "\n",
    "#points = (points - np.min(points)) / (np.max(points) - np.min(points)) * 255\n",
    "#pointsUint8 = points.astype(np.uint8)\n",
    "\n",
    "# plot result\n",
    "plt.figure()\n",
    "plt.imshow(k)\n",
    "plt.imsave('image_new.jpg',k )"
   ]
  },
  {
   "cell_type": "code",
   "execution_count": 19,
   "metadata": {},
   "outputs": [
    {
     "name": "stdout",
     "output_type": "stream",
     "text": [
      "(1672, 856)\n"
     ]
    }
   ],
   "source": [
    "print(k.shape)"
   ]
  },
  {
   "cell_type": "code",
   "execution_count": null,
   "metadata": {},
   "outputs": [],
   "source": []
  },
  {
   "cell_type": "code",
   "execution_count": null,
   "metadata": {},
   "outputs": [],
   "source": []
  },
  {
   "cell_type": "code",
   "execution_count": null,
   "metadata": {},
   "outputs": [],
   "source": []
  },
  {
   "cell_type": "code",
   "execution_count": null,
   "metadata": {},
   "outputs": [],
   "source": []
  },
  {
   "cell_type": "code",
   "execution_count": null,
   "metadata": {},
   "outputs": [],
   "source": []
  },
  {
   "cell_type": "code",
   "execution_count": null,
   "metadata": {},
   "outputs": [],
   "source": []
  },
  {
   "cell_type": "code",
   "execution_count": null,
   "metadata": {},
   "outputs": [],
   "source": []
  },
  {
   "cell_type": "code",
   "execution_count": null,
   "metadata": {},
   "outputs": [],
   "source": []
  },
  {
   "cell_type": "code",
   "execution_count": null,
   "metadata": {},
   "outputs": [],
   "source": []
  },
  {
   "cell_type": "code",
   "execution_count": null,
   "metadata": {},
   "outputs": [],
   "source": []
  },
  {
   "cell_type": "code",
   "execution_count": null,
   "metadata": {},
   "outputs": [],
   "source": []
  },
  {
   "cell_type": "code",
   "execution_count": null,
   "metadata": {},
   "outputs": [],
   "source": []
  }
 ],
 "metadata": {
  "kernelspec": {
   "display_name": "Python 3",
   "language": "python",
   "name": "python3"
  },
  "language_info": {
   "codemirror_mode": {
    "name": "ipython",
    "version": 3
   },
   "file_extension": ".py",
   "mimetype": "text/x-python",
   "name": "python",
   "nbconvert_exporter": "python",
   "pygments_lexer": "ipython3",
   "version": "3.7.8"
  }
 },
 "nbformat": 4,
 "nbformat_minor": 4
}
